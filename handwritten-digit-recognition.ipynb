{
 "cells": [
  {
   "cell_type": "code",
   "execution_count": 1,
   "id": "500a692b",
   "metadata": {},
   "outputs": [],
   "source": [
    "import numpy as np\n",
    "import pathlib\n",
    "import matplotlib.pyplot as plt\n",
    "from tqdm import tqdm"
   ]
  },
  {
   "cell_type": "code",
   "execution_count": 2,
   "id": "900405da",
   "metadata": {},
   "outputs": [],
   "source": [
    "with np.load(\"data/mnist.npz\") as f:\n",
    "        images, labels = f[\"x_train\"], f[\"y_train\"]\n",
    "images = images.astype(\"float32\") / 255\n",
    "images = np.reshape(images, (images.shape[0], images.shape[1] * images.shape[2]))\n",
    "labels = np.eye(10)[labels]"
   ]
  },
  {
   "cell_type": "code",
   "execution_count": 3,
   "id": "633cdcb4",
   "metadata": {},
   "outputs": [],
   "source": [
    "weight_input_hidden = np.random.uniform(-0.5, 0.5, (20, 784))\n",
    "weight_hidden_output = np.random.uniform(-0.5, 0.5, (10, 20))\n",
    "bias_input_hidden = np.zeros((20, 1))\n",
    "bias_hidden_output = np.zeros((10, 1))"
   ]
  },
  {
   "cell_type": "code",
   "execution_count": null,
   "id": "f6170860",
   "metadata": {},
   "outputs": [
    {
     "name": "stderr",
     "output_type": "stream",
     "text": [
      "60000it [00:07, 8560.99it/s]\n"
     ]
    },
    {
     "name": "stdout",
     "output_type": "stream",
     "text": [
      "Acc: 96.09%\n"
     ]
    },
    {
     "name": "stderr",
     "output_type": "stream",
     "text": [
      "60000it [00:06, 8748.85it/s] \n"
     ]
    },
    {
     "name": "stdout",
     "output_type": "stream",
     "text": [
      "Acc: 96.14%\n"
     ]
    },
    {
     "name": "stderr",
     "output_type": "stream",
     "text": [
      "60000it [00:06, 8582.48it/s]\n"
     ]
    },
    {
     "name": "stdout",
     "output_type": "stream",
     "text": [
      "Acc: 96.21%\n",
      "Enter a number (0 - 59999): 12\n"
     ]
    },
    {
     "data": {
      "image/png": "[encoded data removed]",
      "text/plain": [
       "<Figure size 640x480 with 1 Axes>"
      ]
     },
     "metadata": {},
     "output_type": "display_data"
    },
    {
     "name": "stdout",
     "output_type": "stream",
     "text": [
      "Enter a number (0 - 59999): 46\n"
     ]
    },
    {
     "data": {
      "image/png": "[encoded data removed]",
      "text/plain": [
       "<Figure size 640x480 with 1 Axes>"
      ]
     },
     "metadata": {},
     "output_type": "display_data"
    }
   ],
   "source": [
    "learn_rate = 0.01\n",
    "nr_correct = 0\n",
    "epochs = 3\n",
    "i = 0\n",
    "for epoch in range(epochs):\n",
    "    for img, l in tqdm(zip(images, labels)):\n",
    "        img.shape += (1,)       \n",
    "        l.shape += (1,)\n",
    "        \n",
    "        # Forward propagation input -> hidden\n",
    "        hidden_pre = bias_input_hidden + weight_input_hidden @ img\n",
    "        hidden = 1 / (1 + np.exp(-hidden_pre))\n",
    "        # Forward propagation hidden -> output\n",
    "        output_pre = bias_hidden_output + weight_hidden_output @ hidden\n",
    "        output = 1 / (1 + np.exp(-output_pre))\n",
    "\n",
    "        # Cost / Error calculation\n",
    "        e = 1 / len(output) * np.sum((output - l) ** 2, axis=0)\n",
    "        nr_correct += int(np.argmax(output) == np.argmax(l))\n",
    "\n",
    "        # Backpropagation output -> hidden (cost function derivative)\n",
    "        delta_o = output - l\n",
    "        weight_hidden_output += -learn_rate * delta_o @ np.transpose(hidden)\n",
    "        bias_hidden_output += -learn_rate * delta_o\n",
    "        # Backpropagation hidden -> input (activation function derivative)\n",
    "        delta_h = np.transpose(weight_hidden_output) @ delta_o * (hidden * (1 - hidden))\n",
    "        weight_input_hidden += -learn_rate * delta_h @ np.transpose(img)\n",
    "        bias_input_hidden += -learn_rate * delta_h\n",
    "\n",
    "    # Show accuracy for this epoch\n",
    "    print(f\"Acc: {round((nr_correct / images.shape[0]) * 100, 2)}%\")\n",
    "    nr_correct = 0\n",
    "\n",
    "# Show results\n",
    "while True:\n",
    "    index = int(input(\"Enter a number (0 - 59999): \"))\n",
    "    img = images[index]\n",
    "    plt.imshow(img.reshape(28, 28), cmap=\"Greys\")\n",
    "\n",
    "    img.shape += (1,)\n",
    "    \n",
    "    # Forward propagation input -> hidden\n",
    "    hidden_pre = bias_input_hidden + weight_input_hidden @ img.reshape(784, 1)\n",
    "    hidden = 1 / (1 + np.exp(-hidden_pre))\n",
    "    \n",
    "    # Forward propagation hidden -> output\n",
    "    output_pre = bias_hidden_output + weight_hidden_output @ hidden\n",
    "    output = 1 / (1 + np.exp(-output_pre))\n",
    "    \n",
    "\n",
    "    plt.title(f\"It's a {output.argmax()}\")\n",
    "    plt.show()"
   ]
  },
  {
   "cell_type": "code",
   "execution_count": null,
   "id": "1fc9602d",
   "metadata": {},
   "outputs": [],
   "source": []
  }
 ],
 "metadata": {
  "kernelspec": {
   "display_name": "Python 3 (ipykernel)",
   "language": "python",
   "name": "python3"
  },
  "language_info": {
   "codemirror_mode": {
    "name": "ipython",
    "version": 3
   },
   "file_extension": ".py",
   "mimetype": "text/x-python",
   "name": "python",
   "nbconvert_exporter": "python",
   "pygments_lexer": "ipython3",
   "version": "3.10.9"
  }
 },
 "nbformat": 4,
 "nbformat_minor": 5
}
